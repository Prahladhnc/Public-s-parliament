{
  "nbformat": 4,
  "nbformat_minor": 0,
  "metadata": {
    "colab": {
      "provenance": [],
      "authorship_tag": "ABX9TyO6Pvd/5KFd0ga1iHfBh+Gm",
      "include_colab_link": true
    },
    "kernelspec": {
      "name": "python3",
      "display_name": "Python 3"
    },
    "language_info": {
      "name": "python"
    }
  },
  "cells": [
    {
      "cell_type": "markdown",
      "metadata": {
        "id": "view-in-github",
        "colab_type": "text"
      },
      "source": [
        "<a href=\"https://colab.research.google.com/github/Ninja2k3/aventus-meandthebois/blob/nlp/senti_pre_trained_ipnyb.ipynb\" target=\"_parent\"><img src=\"https://colab.research.google.com/assets/colab-badge.svg\" alt=\"Open In Colab\"/></a>"
      ]
    },
    {
      "cell_type": "code",
      "execution_count": null,
      "metadata": {
        "id": "Gl8V3AtAjCXw"
      },
      "outputs": [],
      "source": [
        "!pip3 install torch torchvision torchaudio --index-url https://download.pytorch.org/whl/cu118\n",
        "!pip install transformers numpy pandas beautifulsoup4 requests\n",
        "from transformers import AutoTokenizer, AutoModelForSequenceClassification\n",
        "import torch\n",
        "import requests\n",
        "from bs4 import BeautifulSoup\n",
        "import re"
      ]
    },
    {
      "cell_type": "code",
      "source": [
        "tokenizer = AutoTokenizer.from_pretrained('nlptown/bert-base-multilingual-uncased-sentiment')\n",
        "model = AutoModelForSequenceClassification.from_pretrained('nlptown/bert-base-multilingual-uncased-sentiment')"
      ],
      "metadata": {
        "id": "rGI9ZMCYkv74"
      },
      "execution_count": 15,
      "outputs": []
    },
    {
      "cell_type": "code",
      "source": [
        "tokens = tokenizer.encode('This bill can be usefull to students who prosper but it is bad  to students who dont a good financial background', return_tensors='pt')\n",
        "result = model(tokens)\n",
        "\n",
        "sentiment=['Very Opposing','Slightly Negative','Needs improvement','Slightly positive','Complete Grant']\n",
        "print(result.logits)\n",
        "sentiment[int(torch.argmax(result.logits))]"
      ],
      "metadata": {
        "colab": {
          "base_uri": "https://localhost:8080/",
          "height": 72
        },
        "id": "y5Du5hh_k33G",
        "outputId": "0d66e486-3f5f-4393-c628-0590e850e8c0"
      },
      "execution_count": 24,
      "outputs": [
        {
          "output_type": "stream",
          "name": "stdout",
          "text": [
            "tensor([[-0.4146,  0.5279,  1.2571,  0.2261, -1.3756]],\n",
            "       grad_fn=<AddmmBackward0>)\n"
          ]
        },
        {
          "output_type": "execute_result",
          "data": {
            "text/plain": [
              "'Needs improvement'"
            ],
            "application/vnd.google.colaboratory.intrinsic+json": {
              "type": "string"
            }
          },
          "metadata": {},
          "execution_count": 24
        }
      ]
    },
    {
      "cell_type": "code",
      "source": [
        "model"
      ],
      "metadata": {
        "id": "B5kOWMP_nOBH"
      },
      "execution_count": null,
      "outputs": []
    },
    {
      "cell_type": "markdown",
      "source": [
        "COMMENT ANALYSIS MODEL ABOVE\n",
        "^\n",
        "|\n",
        "|\n",
        "-------------------------\n",
        "Web scarping summary key points below"
      ],
      "metadata": {
        "id": "-xXwtq4Lqe9j"
      }
    },
    {
      "cell_type": "code",
      "source": [
        "import requests\n",
        "from bs4 import BeautifulSoup\n",
        "url='https://prsindia.org/billtrack/the-tamil-nadu-legislative-council-repeal-bill-2012'\n",
        "html=requests.get(url)\n",
        "s=BeautifulSoup(html.content,'html.parser')\n",
        "# print(s.prettify())\n",
        "key=s.find_all('a',title='PRS Bill Summary')\n",
        "for i in key:\n",
        "  k=i.get('href')\n",
        "key\n",
        "url2=('https://prsindia.org'+k)\n",
        "url2\n",
        "html2=requests.get(url2)\n",
        "s1=BeautifulSoup(html2.content,'html.parser')\n",
        "key1=s1.find(class_='body_content')\n"
      ],
      "metadata": {
        "id": "p7DoXyTAqtC4"
      },
      "execution_count": 323,
      "outputs": []
    },
    {
      "cell_type": "code",
      "source": [
        "#TO GET HEADING AND SUMMARY OF BILL\n",
        "import unicodedata\n",
        "key_points=[]\n",
        "heading=[]\n",
        "ministry=[]\n",
        "status=[]\n",
        "pdf_link=[]\n",
        "k=s.find_all('ul')\n",
        "\n",
        "if not k:\n",
        "  k=s.find_all('ul')\n",
        "  for i in range(3,len(k)-5):\n",
        "     key_points.append(unicodedata.normalize(\"NFKD\",k[i].get_text(strip='True')))\n",
        "  #  print(k[i].get_text(strip='True')+'\\n')\n",
        "elif len(k)==1:\n",
        "  k=key1.find_all('span',style='font-size:16px')\n",
        "  for i in k:\n",
        "    key_points.append(unicodedata.normalize(\"NFKD\",i.get_text(strip='True')))\n",
        "else:\n",
        "  for i in k:\n",
        "   key_points.append(unicodedata.normalize(\"NFKD\",i.get_text(strip='True')))\n",
        "head=s.find_all('a',class_='active fs-28')\n",
        "for i in head:\n",
        "  heading.append(unicodedata.normalize(\"NFKD\",i.get_text(strip='True')))\n",
        "mini=s.find('div',class_='field field-name-field-ministry field-type-taxonomy-term-reference field-label-inline clearfix')\n",
        "for i in mini:\n",
        "  ministry.append(unicodedata.normalize(\"NFKD\",i.get_text(strip='True')))\n",
        "stat=s.find_all('div',class_='field field-name-field-own-status field-type-list-text field-label-hidden')\n",
        "for i in stat:\n",
        "   status.append(unicodedata.normalize(\"NFKD\",i.get_text(strip='True')))\n",
        "\n",
        "print(key1.prettify())\n"
      ],
      "metadata": {
        "id": "kThJXqILt9jc"
      },
      "execution_count": 324,
      "outputs": []
    },
    {
      "cell_type": "code",
      "source": [
        "print('\\n HEADING : \\n\\n'+heading[0])\n",
        "print('\\n KEY POINTS : \\n')\n",
        "for i in range(len(key_points)-1):\n",
        "  print(key_points[i]+'\\n')\n",
        "print('\\n MINISTRY : \\n\\n'+ministry[3]+'\\n\\n')\n",
        "print(' STATUS : \\n')\n",
        "if status[len(status)-1]=='Passed':\n",
        "  print('Passed')\n",
        "else:\n",
        "  print('Pending')"
      ],
      "metadata": {
        "id": "nIT-R06vbJ7u"
      },
      "execution_count": null,
      "outputs": []
    },
    {
      "cell_type": "markdown",
      "source": [
        "**COMPILED CLASS BELOW FOR SCRAPING**"
      ],
      "metadata": {
        "id": "o1dEwNuYxjXn"
      }
    },
    {
      "cell_type": "code",
      "source": [
        "import requests\n",
        "from bs4 import BeautifulSoup\n",
        "import unicodedata\n",
        "class bill_info:\n",
        "  def __init__(self,url):\n",
        "    self.url = url\n",
        "\n",
        "  def scrape(self):\n",
        "    key_points=[]\n",
        "    heading=[]\n",
        "    ministry=[]\n",
        "    status=[]\n",
        "    data=[]\n",
        "    html=requests.get(self.url)\n",
        "    s=BeautifulSoup(html.content,'html.parser')\n",
        "    key=s.find_all('a',title='PRS Bill Summary')\n",
        "    for i in key:\n",
        "      k=i.get('href')\n",
        "    url2=('https://prsindia.org'+k)\n",
        "    url2\n",
        "    html2=requests.get(url2)\n",
        "    s1=BeautifulSoup(html2.content,'html.parser')\n",
        "    key1=s1.find(class_='body_content')\n",
        "    k=key1.find_all('ul')\n",
        "    if not k:\n",
        "     k=s.find_all('ul')\n",
        "     for i in range(3,len(k)-5):\n",
        "        key_points.append(unicodedata.normalize(\"NFKD\",k[i].get_text(strip='True')))\n",
        "    elif len(k)==1:\n",
        "      k=key1.find_all('span',style='font-size:16px')\n",
        "      for i in k:\n",
        "        key_points.append(unicodedata.normalize(\"NFKD\",i.get_text(strip='True')))\n",
        "    else:\n",
        "      for i in k:\n",
        "        key_points.append(unicodedata.normalize(\"NFKD\",i.get_text(strip='True')))\n",
        "    head=s.find_all('a',class_='active fs-28')\n",
        "    for i in head:\n",
        "      heading.append(unicodedata.normalize(\"NFKD\",i.get_text(strip='True')))\n",
        "    mini=s.find('div',class_='field field-name-field-ministry field-type-taxonomy-term-reference field-label-inline clearfix')\n",
        "    for i in mini:\n",
        "      ministry.append(unicodedata.normalize(\"NFKD\",i.get_text(strip='True')))\n",
        "    stat=s.find_all('div',class_='field field-name-field-own-status field-type-list-text field-label-hidden')\n",
        "    for i in stat:\n",
        "      status.append(unicodedata.normalize(\"NFKD\",i.get_text(strip='True')))\n",
        "    data=[heading,ministry,status,key_points]\n",
        "    return data\n",
        "\n",
        "\n",
        "  def show(self):\n",
        "    print('\\n HEADING : \\n\\n'+heading[0])\n",
        "    print('\\n KEY POINTS : \\n')\n",
        "    for i in range(len(key_points)-1):\n",
        "      print(key_points[i]+'\\n')\n",
        "    print('\\n MINISTRY : \\n\\n'+ministry[3]+'\\n\\n')\n",
        "    print(' STATUS : \\n')\n",
        "    if status[len(status)-1]=='Passed':\n",
        "      print('Passed')\n",
        "    else:\n",
        "     print('Pending')"
      ],
      "metadata": {
        "id": "cmfgUU6kxnHa"
      },
      "execution_count": 332,
      "outputs": []
    },
    {
      "cell_type": "code",
      "source": [
        "url='https://prsindia.org/billtrack/the-tamil-nadu-legislative-council-repeal-bill-2012'\n",
        "bill=bill_info(url)\n",
        "data=bill.scrape()\n",
        "bill.show()"
      ],
      "metadata": {
        "colab": {
          "base_uri": "https://localhost:8080/"
        },
        "id": "sIw2LX430W9G",
        "outputId": "462fef54-d849-4e30-eba9-a56a58e6c245"
      },
      "execution_count": 333,
      "outputs": [
        {
          "output_type": "stream",
          "name": "stdout",
          "text": [
            "\n",
            " HEADING : \n",
            "\n",
            "The Tamil Nadu Legislative Council (Repeal) Bill, 2012\n",
            "\n",
            " KEY POINTS : \n",
            "\n",
            "The Tamil Nadu Legislative Council (Repeal) Bill, 2012 was introduced in the Rajya Sabha on May 4, 2012 by the then Minister for Law and Justice, Mr. Salman Khurshid.\n",
            "\n",
            "The Bill repeals the Tamil Nadu Legislative Council Act, 2010.\n",
            "\n",
            "The Act was passed by Parliament to provide for the creation of a Legislative Council for the state of Tamil Nadu, in pursuance of a resolution passed by the Legislative Assembly, on April 12, 2010.\n",
            "\n",
            "Further, the Act required that the President issue an order for appointing a date for the inclusion of the name of the state of Tamil Nadu into Article 168 (1) (a) of the Constitution, which includes names of states that have two houses, the Legislative Assembly and Legislative Council.\n",
            "\n",
            "Prior to the constitution of the Legislative Council, the Legislative Assembly withdrew its decision to create a Legislative Council, by passing another resolution on June 7, 2011.\n",
            "\n",
            "\n",
            " MINISTRY : \n",
            "\n",
            "Law and Justice\n",
            "\n",
            "\n",
            " STATUS : \n",
            "\n",
            "Pending\n"
          ]
        }
      ]
    }
  ]
}